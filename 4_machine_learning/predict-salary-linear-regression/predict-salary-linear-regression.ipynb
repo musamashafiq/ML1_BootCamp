{
 "cells": [
  {
   "cell_type": "code",
   "execution_count": 1,
   "metadata": {
    "_cell_guid": "79c7e3d0-c299-4dcb-8224-4455121ee9b0",
    "_uuid": "d629ff2d2480ee46fbb7e2d37f6b5fab8052498a",
    "execution": {
     "iopub.execute_input": "2021-01-07T14:44:13.068985Z",
     "iopub.status.busy": "2021-01-07T14:44:13.068176Z",
     "iopub.status.idle": "2021-01-07T14:44:13.070916Z",
     "shell.execute_reply": "2021-01-07T14:44:13.071378Z"
    },
    "papermill": {
     "duration": 0.044053,
     "end_time": "2021-01-07T14:44:13.071567",
     "exception": false,
     "start_time": "2021-01-07T14:44:13.027514",
     "status": "completed"
    },
    "tags": []
   },
   "outputs": [],
   "source": [
    "#Import Libiraries\n",
    "import numpy as np\n",
    "import pandas as pd\n",
    "import matplotlib as plt"
   ]
  },
  {
   "cell_type": "markdown",
   "metadata": {
    "papermill": {
     "duration": 0.032202,
     "end_time": "2021-01-07T14:44:13.137088",
     "exception": false,
     "start_time": "2021-01-07T14:44:13.104886",
     "status": "completed"
    },
    "tags": []
   },
   "source": [
    "# **Load the DataSet**"
   ]
  },
  {
   "cell_type": "code",
   "execution_count": 2,
   "metadata": {
    "execution": {
     "iopub.execute_input": "2021-01-07T14:44:13.213600Z",
     "iopub.status.busy": "2021-01-07T14:44:13.212765Z",
     "iopub.status.idle": "2021-01-07T14:44:13.222326Z",
     "shell.execute_reply": "2021-01-07T14:44:13.222837Z"
    },
    "papermill": {
     "duration": 0.052896,
     "end_time": "2021-01-07T14:44:13.222990",
     "exception": false,
     "start_time": "2021-01-07T14:44:13.170094",
     "status": "completed"
    },
    "tags": []
   },
   "outputs": [],
   "source": [
    "df = pd.read_csv('../input/years-of-experience-and-salary-dataset/Salary_Data.csv')"
   ]
  },
  {
   "cell_type": "markdown",
   "metadata": {
    "papermill": {
     "duration": 0.03948,
     "end_time": "2021-01-07T14:44:13.296876",
     "exception": false,
     "start_time": "2021-01-07T14:44:13.257396",
     "status": "completed"
    },
    "tags": []
   },
   "source": [
    "# **Basic Information about DataFrame**"
   ]
  },
  {
   "cell_type": "code",
   "execution_count": 3,
   "metadata": {
    "execution": {
     "iopub.execute_input": "2021-01-07T14:44:13.367232Z",
     "iopub.status.busy": "2021-01-07T14:44:13.366447Z",
     "iopub.status.idle": "2021-01-07T14:44:13.372754Z",
     "shell.execute_reply": "2021-01-07T14:44:13.373286Z"
    },
    "papermill": {
     "duration": 0.043515,
     "end_time": "2021-01-07T14:44:13.373427",
     "exception": false,
     "start_time": "2021-01-07T14:44:13.329912",
     "status": "completed"
    },
    "tags": []
   },
   "outputs": [
    {
     "data": {
      "text/plain": [
       "(30, 2)"
      ]
     },
     "execution_count": 3,
     "metadata": {},
     "output_type": "execute_result"
    }
   ],
   "source": [
    "#check shape of data\n",
    "df.shape"
   ]
  },
  {
   "cell_type": "markdown",
   "metadata": {
    "papermill": {
     "duration": 0.033623,
     "end_time": "2021-01-07T14:44:13.441715",
     "exception": false,
     "start_time": "2021-01-07T14:44:13.408092",
     "status": "completed"
    },
    "tags": []
   },
   "source": [
    "**30 Row And 2 Column**"
   ]
  },
  {
   "cell_type": "code",
   "execution_count": 4,
   "metadata": {
    "execution": {
     "iopub.execute_input": "2021-01-07T14:44:13.514908Z",
     "iopub.status.busy": "2021-01-07T14:44:13.514222Z",
     "iopub.status.idle": "2021-01-07T14:44:13.535815Z",
     "shell.execute_reply": "2021-01-07T14:44:13.536344Z"
    },
    "papermill": {
     "duration": 0.059422,
     "end_time": "2021-01-07T14:44:13.536485",
     "exception": false,
     "start_time": "2021-01-07T14:44:13.477063",
     "status": "completed"
    },
    "tags": []
   },
   "outputs": [
    {
     "data": {
      "text/html": [
       "<div>\n",
       "<style scoped>\n",
       "    .dataframe tbody tr th:only-of-type {\n",
       "        vertical-align: middle;\n",
       "    }\n",
       "\n",
       "    .dataframe tbody tr th {\n",
       "        vertical-align: top;\n",
       "    }\n",
       "\n",
       "    .dataframe thead th {\n",
       "        text-align: right;\n",
       "    }\n",
       "</style>\n",
       "<table border=\"1\" class=\"dataframe\">\n",
       "  <thead>\n",
       "    <tr style=\"text-align: right;\">\n",
       "      <th></th>\n",
       "      <th>YearsExperience</th>\n",
       "      <th>Salary</th>\n",
       "    </tr>\n",
       "  </thead>\n",
       "  <tbody>\n",
       "    <tr>\n",
       "      <th>0</th>\n",
       "      <td>1.1</td>\n",
       "      <td>39343.0</td>\n",
       "    </tr>\n",
       "    <tr>\n",
       "      <th>1</th>\n",
       "      <td>1.3</td>\n",
       "      <td>46205.0</td>\n",
       "    </tr>\n",
       "    <tr>\n",
       "      <th>2</th>\n",
       "      <td>1.5</td>\n",
       "      <td>37731.0</td>\n",
       "    </tr>\n",
       "    <tr>\n",
       "      <th>3</th>\n",
       "      <td>2.0</td>\n",
       "      <td>43525.0</td>\n",
       "    </tr>\n",
       "    <tr>\n",
       "      <th>4</th>\n",
       "      <td>2.2</td>\n",
       "      <td>39891.0</td>\n",
       "    </tr>\n",
       "  </tbody>\n",
       "</table>\n",
       "</div>"
      ],
      "text/plain": [
       "   YearsExperience   Salary\n",
       "0              1.1  39343.0\n",
       "1              1.3  46205.0\n",
       "2              1.5  37731.0\n",
       "3              2.0  43525.0\n",
       "4              2.2  39891.0"
      ]
     },
     "execution_count": 4,
     "metadata": {},
     "output_type": "execute_result"
    }
   ],
   "source": [
    "#View the first five row from the data\n",
    "df.head()"
   ]
  },
  {
   "cell_type": "code",
   "execution_count": 5,
   "metadata": {
    "execution": {
     "iopub.execute_input": "2021-01-07T14:44:13.620057Z",
     "iopub.status.busy": "2021-01-07T14:44:13.619389Z",
     "iopub.status.idle": "2021-01-07T14:44:13.629612Z",
     "shell.execute_reply": "2021-01-07T14:44:13.630098Z"
    },
    "papermill": {
     "duration": 0.050357,
     "end_time": "2021-01-07T14:44:13.630259",
     "exception": false,
     "start_time": "2021-01-07T14:44:13.579902",
     "status": "completed"
    },
    "tags": []
   },
   "outputs": [
    {
     "data": {
      "text/html": [
       "<div>\n",
       "<style scoped>\n",
       "    .dataframe tbody tr th:only-of-type {\n",
       "        vertical-align: middle;\n",
       "    }\n",
       "\n",
       "    .dataframe tbody tr th {\n",
       "        vertical-align: top;\n",
       "    }\n",
       "\n",
       "    .dataframe thead th {\n",
       "        text-align: right;\n",
       "    }\n",
       "</style>\n",
       "<table border=\"1\" class=\"dataframe\">\n",
       "  <thead>\n",
       "    <tr style=\"text-align: right;\">\n",
       "      <th></th>\n",
       "      <th>YearsExperience</th>\n",
       "      <th>Salary</th>\n",
       "    </tr>\n",
       "  </thead>\n",
       "  <tbody>\n",
       "    <tr>\n",
       "      <th>25</th>\n",
       "      <td>9.0</td>\n",
       "      <td>105582.0</td>\n",
       "    </tr>\n",
       "    <tr>\n",
       "      <th>26</th>\n",
       "      <td>9.5</td>\n",
       "      <td>116969.0</td>\n",
       "    </tr>\n",
       "    <tr>\n",
       "      <th>27</th>\n",
       "      <td>9.6</td>\n",
       "      <td>112635.0</td>\n",
       "    </tr>\n",
       "    <tr>\n",
       "      <th>28</th>\n",
       "      <td>10.3</td>\n",
       "      <td>122391.0</td>\n",
       "    </tr>\n",
       "    <tr>\n",
       "      <th>29</th>\n",
       "      <td>10.5</td>\n",
       "      <td>121872.0</td>\n",
       "    </tr>\n",
       "  </tbody>\n",
       "</table>\n",
       "</div>"
      ],
      "text/plain": [
       "    YearsExperience    Salary\n",
       "25              9.0  105582.0\n",
       "26              9.5  116969.0\n",
       "27              9.6  112635.0\n",
       "28             10.3  122391.0\n",
       "29             10.5  121872.0"
      ]
     },
     "execution_count": 5,
     "metadata": {},
     "output_type": "execute_result"
    }
   ],
   "source": [
    "#View the last five row from data\n",
    "df.tail()"
   ]
  },
  {
   "cell_type": "code",
   "execution_count": 6,
   "metadata": {
    "execution": {
     "iopub.execute_input": "2021-01-07T14:44:13.704712Z",
     "iopub.status.busy": "2021-01-07T14:44:13.703868Z",
     "iopub.status.idle": "2021-01-07T14:44:13.716507Z",
     "shell.execute_reply": "2021-01-07T14:44:13.715814Z"
    },
    "papermill": {
     "duration": 0.050722,
     "end_time": "2021-01-07T14:44:13.716684",
     "exception": false,
     "start_time": "2021-01-07T14:44:13.665962",
     "status": "completed"
    },
    "tags": []
   },
   "outputs": [
    {
     "data": {
      "text/html": [
       "<div>\n",
       "<style scoped>\n",
       "    .dataframe tbody tr th:only-of-type {\n",
       "        vertical-align: middle;\n",
       "    }\n",
       "\n",
       "    .dataframe tbody tr th {\n",
       "        vertical-align: top;\n",
       "    }\n",
       "\n",
       "    .dataframe thead th {\n",
       "        text-align: right;\n",
       "    }\n",
       "</style>\n",
       "<table border=\"1\" class=\"dataframe\">\n",
       "  <thead>\n",
       "    <tr style=\"text-align: right;\">\n",
       "      <th></th>\n",
       "      <th>YearsExperience</th>\n",
       "      <th>Salary</th>\n",
       "    </tr>\n",
       "  </thead>\n",
       "  <tbody>\n",
       "    <tr>\n",
       "      <th>9</th>\n",
       "      <td>3.7</td>\n",
       "      <td>57189.0</td>\n",
       "    </tr>\n",
       "  </tbody>\n",
       "</table>\n",
       "</div>"
      ],
      "text/plain": [
       "   YearsExperience   Salary\n",
       "9              3.7  57189.0"
      ]
     },
     "execution_count": 6,
     "metadata": {},
     "output_type": "execute_result"
    }
   ],
   "source": [
    "#view one sample from data\n",
    "df.sample()"
   ]
  },
  {
   "cell_type": "code",
   "execution_count": 7,
   "metadata": {
    "execution": {
     "iopub.execute_input": "2021-01-07T14:44:13.806093Z",
     "iopub.status.busy": "2021-01-07T14:44:13.804029Z",
     "iopub.status.idle": "2021-01-07T14:44:13.809963Z",
     "shell.execute_reply": "2021-01-07T14:44:13.809260Z"
    },
    "papermill": {
     "duration": 0.054819,
     "end_time": "2021-01-07T14:44:13.810088",
     "exception": false,
     "start_time": "2021-01-07T14:44:13.755269",
     "status": "completed"
    },
    "tags": []
   },
   "outputs": [
    {
     "data": {
      "text/html": [
       "<div>\n",
       "<style scoped>\n",
       "    .dataframe tbody tr th:only-of-type {\n",
       "        vertical-align: middle;\n",
       "    }\n",
       "\n",
       "    .dataframe tbody tr th {\n",
       "        vertical-align: top;\n",
       "    }\n",
       "\n",
       "    .dataframe thead th {\n",
       "        text-align: right;\n",
       "    }\n",
       "</style>\n",
       "<table border=\"1\" class=\"dataframe\">\n",
       "  <thead>\n",
       "    <tr style=\"text-align: right;\">\n",
       "      <th></th>\n",
       "      <th>YearsExperience</th>\n",
       "      <th>Salary</th>\n",
       "    </tr>\n",
       "  </thead>\n",
       "  <tbody>\n",
       "    <tr>\n",
       "      <th>27</th>\n",
       "      <td>9.6</td>\n",
       "      <td>112635.0</td>\n",
       "    </tr>\n",
       "    <tr>\n",
       "      <th>20</th>\n",
       "      <td>6.8</td>\n",
       "      <td>91738.0</td>\n",
       "    </tr>\n",
       "    <tr>\n",
       "      <th>6</th>\n",
       "      <td>3.0</td>\n",
       "      <td>60150.0</td>\n",
       "    </tr>\n",
       "    <tr>\n",
       "      <th>4</th>\n",
       "      <td>2.2</td>\n",
       "      <td>39891.0</td>\n",
       "    </tr>\n",
       "    <tr>\n",
       "      <th>14</th>\n",
       "      <td>4.5</td>\n",
       "      <td>61111.0</td>\n",
       "    </tr>\n",
       "    <tr>\n",
       "      <th>13</th>\n",
       "      <td>4.1</td>\n",
       "      <td>57081.0</td>\n",
       "    </tr>\n",
       "    <tr>\n",
       "      <th>25</th>\n",
       "      <td>9.0</td>\n",
       "      <td>105582.0</td>\n",
       "    </tr>\n",
       "    <tr>\n",
       "      <th>15</th>\n",
       "      <td>4.9</td>\n",
       "      <td>67938.0</td>\n",
       "    </tr>\n",
       "    <tr>\n",
       "      <th>29</th>\n",
       "      <td>10.5</td>\n",
       "      <td>121872.0</td>\n",
       "    </tr>\n",
       "    <tr>\n",
       "      <th>26</th>\n",
       "      <td>9.5</td>\n",
       "      <td>116969.0</td>\n",
       "    </tr>\n",
       "  </tbody>\n",
       "</table>\n",
       "</div>"
      ],
      "text/plain": [
       "    YearsExperience    Salary\n",
       "27              9.6  112635.0\n",
       "20              6.8   91738.0\n",
       "6               3.0   60150.0\n",
       "4               2.2   39891.0\n",
       "14              4.5   61111.0\n",
       "13              4.1   57081.0\n",
       "25              9.0  105582.0\n",
       "15              4.9   67938.0\n",
       "29             10.5  121872.0\n",
       "26              9.5  116969.0"
      ]
     },
     "execution_count": 7,
     "metadata": {},
     "output_type": "execute_result"
    }
   ],
   "source": [
    "#view 10 random sample form data\n",
    "df.sample(10)"
   ]
  },
  {
   "cell_type": "code",
   "execution_count": 8,
   "metadata": {
    "execution": {
     "iopub.execute_input": "2021-01-07T14:44:13.897392Z",
     "iopub.status.busy": "2021-01-07T14:44:13.896597Z",
     "iopub.status.idle": "2021-01-07T14:44:13.900831Z",
     "shell.execute_reply": "2021-01-07T14:44:13.900242Z"
    },
    "papermill": {
     "duration": 0.04747,
     "end_time": "2021-01-07T14:44:13.900952",
     "exception": false,
     "start_time": "2021-01-07T14:44:13.853482",
     "status": "completed"
    },
    "tags": []
   },
   "outputs": [
    {
     "data": {
      "text/plain": [
       "YearsExperience        5.313333\n",
       "Salary             76003.000000\n",
       "dtype: float64"
      ]
     },
     "execution_count": 8,
     "metadata": {},
     "output_type": "execute_result"
    }
   ],
   "source": [
    "#view mean\n",
    "df.mean()"
   ]
  },
  {
   "cell_type": "code",
   "execution_count": 9,
   "metadata": {
    "execution": {
     "iopub.execute_input": "2021-01-07T14:44:13.985446Z",
     "iopub.status.busy": "2021-01-07T14:44:13.984340Z",
     "iopub.status.idle": "2021-01-07T14:44:14.017464Z",
     "shell.execute_reply": "2021-01-07T14:44:14.016817Z"
    },
    "papermill": {
     "duration": 0.079542,
     "end_time": "2021-01-07T14:44:14.017650",
     "exception": false,
     "start_time": "2021-01-07T14:44:13.938108",
     "status": "completed"
    },
    "tags": []
   },
   "outputs": [
    {
     "data": {
      "text/html": [
       "<div>\n",
       "<style scoped>\n",
       "    .dataframe tbody tr th:only-of-type {\n",
       "        vertical-align: middle;\n",
       "    }\n",
       "\n",
       "    .dataframe tbody tr th {\n",
       "        vertical-align: top;\n",
       "    }\n",
       "\n",
       "    .dataframe thead th {\n",
       "        text-align: right;\n",
       "    }\n",
       "</style>\n",
       "<table border=\"1\" class=\"dataframe\">\n",
       "  <thead>\n",
       "    <tr style=\"text-align: right;\">\n",
       "      <th></th>\n",
       "      <th>YearsExperience</th>\n",
       "      <th>Salary</th>\n",
       "    </tr>\n",
       "  </thead>\n",
       "  <tbody>\n",
       "    <tr>\n",
       "      <th>count</th>\n",
       "      <td>30.000000</td>\n",
       "      <td>30.000000</td>\n",
       "    </tr>\n",
       "    <tr>\n",
       "      <th>mean</th>\n",
       "      <td>5.313333</td>\n",
       "      <td>76003.000000</td>\n",
       "    </tr>\n",
       "    <tr>\n",
       "      <th>std</th>\n",
       "      <td>2.837888</td>\n",
       "      <td>27414.429785</td>\n",
       "    </tr>\n",
       "    <tr>\n",
       "      <th>min</th>\n",
       "      <td>1.100000</td>\n",
       "      <td>37731.000000</td>\n",
       "    </tr>\n",
       "    <tr>\n",
       "      <th>25%</th>\n",
       "      <td>3.200000</td>\n",
       "      <td>56720.750000</td>\n",
       "    </tr>\n",
       "    <tr>\n",
       "      <th>50%</th>\n",
       "      <td>4.700000</td>\n",
       "      <td>65237.000000</td>\n",
       "    </tr>\n",
       "    <tr>\n",
       "      <th>75%</th>\n",
       "      <td>7.700000</td>\n",
       "      <td>100544.750000</td>\n",
       "    </tr>\n",
       "    <tr>\n",
       "      <th>max</th>\n",
       "      <td>10.500000</td>\n",
       "      <td>122391.000000</td>\n",
       "    </tr>\n",
       "  </tbody>\n",
       "</table>\n",
       "</div>"
      ],
      "text/plain": [
       "       YearsExperience         Salary\n",
       "count        30.000000      30.000000\n",
       "mean          5.313333   76003.000000\n",
       "std           2.837888   27414.429785\n",
       "min           1.100000   37731.000000\n",
       "25%           3.200000   56720.750000\n",
       "50%           4.700000   65237.000000\n",
       "75%           7.700000  100544.750000\n",
       "max          10.500000  122391.000000"
      ]
     },
     "execution_count": 9,
     "metadata": {},
     "output_type": "execute_result"
    }
   ],
   "source": [
    "#some statistic from dataset\n",
    "df.describe()"
   ]
  },
  {
   "cell_type": "code",
   "execution_count": 10,
   "metadata": {
    "execution": {
     "iopub.execute_input": "2021-01-07T14:44:14.101326Z",
     "iopub.status.busy": "2021-01-07T14:44:14.100637Z",
     "iopub.status.idle": "2021-01-07T14:44:14.105456Z",
     "shell.execute_reply": "2021-01-07T14:44:14.106104Z"
    },
    "papermill": {
     "duration": 0.04901,
     "end_time": "2021-01-07T14:44:14.106252",
     "exception": false,
     "start_time": "2021-01-07T14:44:14.057242",
     "status": "completed"
    },
    "tags": []
   },
   "outputs": [
    {
     "data": {
      "text/plain": [
       "YearsExperience    float64\n",
       "Salary             float64\n",
       "dtype: object"
      ]
     },
     "execution_count": 10,
     "metadata": {},
     "output_type": "execute_result"
    }
   ],
   "source": [
    "#check the datatype of features\n",
    "df.dtypes"
   ]
  },
  {
   "cell_type": "code",
   "execution_count": 11,
   "metadata": {
    "execution": {
     "iopub.execute_input": "2021-01-07T14:44:14.195053Z",
     "iopub.status.busy": "2021-01-07T14:44:14.194352Z",
     "iopub.status.idle": "2021-01-07T14:44:14.201042Z",
     "shell.execute_reply": "2021-01-07T14:44:14.200321Z"
    },
    "papermill": {
     "duration": 0.05748,
     "end_time": "2021-01-07T14:44:14.201183",
     "exception": false,
     "start_time": "2021-01-07T14:44:14.143703",
     "status": "completed"
    },
    "tags": []
   },
   "outputs": [
    {
     "name": "stdout",
     "output_type": "stream",
     "text": [
      "<class 'pandas.core.frame.DataFrame'>\n",
      "RangeIndex: 30 entries, 0 to 29\n",
      "Data columns (total 2 columns):\n",
      " #   Column           Non-Null Count  Dtype  \n",
      "---  ------           --------------  -----  \n",
      " 0   YearsExperience  30 non-null     float64\n",
      " 1   Salary           30 non-null     float64\n",
      "dtypes: float64(2)\n",
      "memory usage: 608.0 bytes\n"
     ]
    }
   ],
   "source": [
    "#information about dataframe\n",
    "df.info()"
   ]
  },
  {
   "cell_type": "code",
   "execution_count": 12,
   "metadata": {
    "execution": {
     "iopub.execute_input": "2021-01-07T14:44:14.290917Z",
     "iopub.status.busy": "2021-01-07T14:44:14.289610Z",
     "iopub.status.idle": "2021-01-07T14:44:14.295817Z",
     "shell.execute_reply": "2021-01-07T14:44:14.295123Z"
    },
    "papermill": {
     "duration": 0.054104,
     "end_time": "2021-01-07T14:44:14.296060",
     "exception": false,
     "start_time": "2021-01-07T14:44:14.241956",
     "status": "completed"
    },
    "tags": []
   },
   "outputs": [
    {
     "data": {
      "text/plain": [
       "<bound method DataFrame.info of     YearsExperience    Salary\n",
       "0               1.1   39343.0\n",
       "1               1.3   46205.0\n",
       "2               1.5   37731.0\n",
       "3               2.0   43525.0\n",
       "4               2.2   39891.0\n",
       "5               2.9   56642.0\n",
       "6               3.0   60150.0\n",
       "7               3.2   54445.0\n",
       "8               3.2   64445.0\n",
       "9               3.7   57189.0\n",
       "10              3.9   63218.0\n",
       "11              4.0   55794.0\n",
       "12              4.0   56957.0\n",
       "13              4.1   57081.0\n",
       "14              4.5   61111.0\n",
       "15              4.9   67938.0\n",
       "16              5.1   66029.0\n",
       "17              5.3   83088.0\n",
       "18              5.9   81363.0\n",
       "19              6.0   93940.0\n",
       "20              6.8   91738.0\n",
       "21              7.1   98273.0\n",
       "22              7.9  101302.0\n",
       "23              8.2  113812.0\n",
       "24              8.7  109431.0\n",
       "25              9.0  105582.0\n",
       "26              9.5  116969.0\n",
       "27              9.6  112635.0\n",
       "28             10.3  122391.0\n",
       "29             10.5  121872.0>"
      ]
     },
     "execution_count": 12,
     "metadata": {},
     "output_type": "execute_result"
    }
   ],
   "source": [
    "df.info"
   ]
  },
  {
   "cell_type": "markdown",
   "metadata": {
    "papermill": {
     "duration": 0.040726,
     "end_time": "2021-01-07T14:44:14.376030",
     "exception": false,
     "start_time": "2021-01-07T14:44:14.335304",
     "status": "completed"
    },
    "tags": []
   },
   "source": [
    "# **Data Cleaning**"
   ]
  },
  {
   "cell_type": "markdown",
   "metadata": {
    "papermill": {
     "duration": 0.038424,
     "end_time": "2021-01-07T14:44:14.453406",
     "exception": false,
     "start_time": "2021-01-07T14:44:14.414982",
     "status": "completed"
    },
    "tags": []
   },
   "source": [
    "**Drop the Duplicates**"
   ]
  },
  {
   "cell_type": "code",
   "execution_count": 13,
   "metadata": {
    "execution": {
     "iopub.execute_input": "2021-01-07T14:44:14.538036Z",
     "iopub.status.busy": "2021-01-07T14:44:14.536835Z",
     "iopub.status.idle": "2021-01-07T14:44:14.542740Z",
     "shell.execute_reply": "2021-01-07T14:44:14.542024Z"
    },
    "papermill": {
     "duration": 0.050873,
     "end_time": "2021-01-07T14:44:14.542862",
     "exception": false,
     "start_time": "2021-01-07T14:44:14.491989",
     "status": "completed"
    },
    "tags": []
   },
   "outputs": [
    {
     "data": {
      "text/plain": [
       "(30, 2)"
      ]
     },
     "execution_count": 13,
     "metadata": {},
     "output_type": "execute_result"
    }
   ],
   "source": [
    "df.shape"
   ]
  },
  {
   "cell_type": "code",
   "execution_count": 14,
   "metadata": {
    "execution": {
     "iopub.execute_input": "2021-01-07T14:44:14.642108Z",
     "iopub.status.busy": "2021-01-07T14:44:14.641406Z",
     "iopub.status.idle": "2021-01-07T14:44:14.644994Z",
     "shell.execute_reply": "2021-01-07T14:44:14.645487Z"
    },
    "papermill": {
     "duration": 0.053808,
     "end_time": "2021-01-07T14:44:14.645659",
     "exception": false,
     "start_time": "2021-01-07T14:44:14.591851",
     "status": "completed"
    },
    "tags": []
   },
   "outputs": [],
   "source": [
    "df=df.drop_duplicates()"
   ]
  },
  {
   "cell_type": "code",
   "execution_count": 15,
   "metadata": {
    "execution": {
     "iopub.execute_input": "2021-01-07T14:44:14.743511Z",
     "iopub.status.busy": "2021-01-07T14:44:14.742591Z",
     "iopub.status.idle": "2021-01-07T14:44:14.747509Z",
     "shell.execute_reply": "2021-01-07T14:44:14.746513Z"
    },
    "papermill": {
     "duration": 0.055725,
     "end_time": "2021-01-07T14:44:14.747719",
     "exception": false,
     "start_time": "2021-01-07T14:44:14.691994",
     "status": "completed"
    },
    "tags": []
   },
   "outputs": [
    {
     "data": {
      "text/plain": [
       "(30, 2)"
      ]
     },
     "execution_count": 15,
     "metadata": {},
     "output_type": "execute_result"
    }
   ],
   "source": [
    "df.shape"
   ]
  },
  {
   "cell_type": "code",
   "execution_count": 16,
   "metadata": {
    "execution": {
     "iopub.execute_input": "2021-01-07T14:44:14.846226Z",
     "iopub.status.busy": "2021-01-07T14:44:14.845414Z",
     "iopub.status.idle": "2021-01-07T14:44:14.855874Z",
     "shell.execute_reply": "2021-01-07T14:44:14.854955Z"
    },
    "papermill": {
     "duration": 0.064874,
     "end_time": "2021-01-07T14:44:14.856067",
     "exception": false,
     "start_time": "2021-01-07T14:44:14.791193",
     "status": "completed"
    },
    "tags": []
   },
   "outputs": [
    {
     "data": {
      "text/plain": [
       "YearsExperience    0\n",
       "Salary             0\n",
       "dtype: int64"
      ]
     },
     "execution_count": 16,
     "metadata": {},
     "output_type": "execute_result"
    }
   ],
   "source": [
    "#Check the Null Values\n",
    "df.isnull().sum()"
   ]
  },
  {
   "cell_type": "code",
   "execution_count": 17,
   "metadata": {
    "execution": {
     "iopub.execute_input": "2021-01-07T14:44:14.976885Z",
     "iopub.status.busy": "2021-01-07T14:44:14.976157Z",
     "iopub.status.idle": "2021-01-07T14:44:14.979559Z",
     "shell.execute_reply": "2021-01-07T14:44:14.978977Z"
    },
    "papermill": {
     "duration": 0.070645,
     "end_time": "2021-01-07T14:44:14.979683",
     "exception": false,
     "start_time": "2021-01-07T14:44:14.909038",
     "status": "completed"
    },
    "tags": []
   },
   "outputs": [],
   "source": [
    "#Create Dependant (y) and Independant (x) values\n",
    "target_feature = 'Salary'\n",
    "#separate object of target feature\n",
    "Y = df[target_feature]\n",
    "#separate object of Dependant feature X\n",
    "X=df.drop(target_feature , axis=1)"
   ]
  },
  {
   "cell_type": "code",
   "execution_count": 18,
   "metadata": {
    "execution": {
     "iopub.execute_input": "2021-01-07T14:44:15.092805Z",
     "iopub.status.busy": "2021-01-07T14:44:15.091640Z",
     "iopub.status.idle": "2021-01-07T14:44:15.097130Z",
     "shell.execute_reply": "2021-01-07T14:44:15.096362Z"
    },
    "papermill": {
     "duration": 0.06106,
     "end_time": "2021-01-07T14:44:15.097272",
     "exception": false,
     "start_time": "2021-01-07T14:44:15.036212",
     "status": "completed"
    },
    "tags": []
   },
   "outputs": [
    {
     "data": {
      "text/plain": [
       "(30, 2)"
      ]
     },
     "execution_count": 18,
     "metadata": {},
     "output_type": "execute_result"
    }
   ],
   "source": [
    "df.shape"
   ]
  },
  {
   "cell_type": "code",
   "execution_count": 19,
   "metadata": {
    "execution": {
     "iopub.execute_input": "2021-01-07T14:44:15.222041Z",
     "iopub.status.busy": "2021-01-07T14:44:15.220251Z",
     "iopub.status.idle": "2021-01-07T14:44:15.228125Z",
     "shell.execute_reply": "2021-01-07T14:44:15.227144Z"
    },
    "papermill": {
     "duration": 0.075068,
     "end_time": "2021-01-07T14:44:15.228292",
     "exception": false,
     "start_time": "2021-01-07T14:44:15.153224",
     "status": "completed"
    },
    "tags": []
   },
   "outputs": [
    {
     "data": {
      "text/html": [
       "<div>\n",
       "<style scoped>\n",
       "    .dataframe tbody tr th:only-of-type {\n",
       "        vertical-align: middle;\n",
       "    }\n",
       "\n",
       "    .dataframe tbody tr th {\n",
       "        vertical-align: top;\n",
       "    }\n",
       "\n",
       "    .dataframe thead th {\n",
       "        text-align: right;\n",
       "    }\n",
       "</style>\n",
       "<table border=\"1\" class=\"dataframe\">\n",
       "  <thead>\n",
       "    <tr style=\"text-align: right;\">\n",
       "      <th></th>\n",
       "      <th>YearsExperience</th>\n",
       "    </tr>\n",
       "  </thead>\n",
       "  <tbody>\n",
       "    <tr>\n",
       "      <th>0</th>\n",
       "      <td>1.1</td>\n",
       "    </tr>\n",
       "    <tr>\n",
       "      <th>1</th>\n",
       "      <td>1.3</td>\n",
       "    </tr>\n",
       "    <tr>\n",
       "      <th>2</th>\n",
       "      <td>1.5</td>\n",
       "    </tr>\n",
       "    <tr>\n",
       "      <th>3</th>\n",
       "      <td>2.0</td>\n",
       "    </tr>\n",
       "    <tr>\n",
       "      <th>4</th>\n",
       "      <td>2.2</td>\n",
       "    </tr>\n",
       "  </tbody>\n",
       "</table>\n",
       "</div>"
      ],
      "text/plain": [
       "   YearsExperience\n",
       "0              1.1\n",
       "1              1.3\n",
       "2              1.5\n",
       "3              2.0\n",
       "4              2.2"
      ]
     },
     "execution_count": 19,
     "metadata": {},
     "output_type": "execute_result"
    }
   ],
   "source": [
    "#Dependant feature\n",
    "X.head()"
   ]
  },
  {
   "cell_type": "code",
   "execution_count": 20,
   "metadata": {
    "execution": {
     "iopub.execute_input": "2021-01-07T14:44:15.339837Z",
     "iopub.status.busy": "2021-01-07T14:44:15.338934Z",
     "iopub.status.idle": "2021-01-07T14:44:15.343672Z",
     "shell.execute_reply": "2021-01-07T14:44:15.344167Z"
    },
    "papermill": {
     "duration": 0.061116,
     "end_time": "2021-01-07T14:44:15.344323",
     "exception": false,
     "start_time": "2021-01-07T14:44:15.283207",
     "status": "completed"
    },
    "tags": []
   },
   "outputs": [
    {
     "data": {
      "text/plain": [
       "0    39343.0\n",
       "1    46205.0\n",
       "2    37731.0\n",
       "3    43525.0\n",
       "4    39891.0\n",
       "Name: Salary, dtype: float64"
      ]
     },
     "execution_count": 20,
     "metadata": {},
     "output_type": "execute_result"
    }
   ],
   "source": [
    "#Target\n",
    "Y.head()"
   ]
  },
  {
   "cell_type": "code",
   "execution_count": 21,
   "metadata": {
    "execution": {
     "iopub.execute_input": "2021-01-07T14:44:15.451148Z",
     "iopub.status.busy": "2021-01-07T14:44:15.450340Z",
     "iopub.status.idle": "2021-01-07T14:44:15.454984Z",
     "shell.execute_reply": "2021-01-07T14:44:15.454291Z"
    },
    "papermill": {
     "duration": 0.058662,
     "end_time": "2021-01-07T14:44:15.455106",
     "exception": false,
     "start_time": "2021-01-07T14:44:15.396444",
     "status": "completed"
    },
    "tags": []
   },
   "outputs": [
    {
     "data": {
      "text/plain": [
       "(30,)"
      ]
     },
     "execution_count": 21,
     "metadata": {},
     "output_type": "execute_result"
    }
   ],
   "source": [
    "Y.shape"
   ]
  },
  {
   "cell_type": "markdown",
   "metadata": {
    "papermill": {
     "duration": 0.063394,
     "end_time": "2021-01-07T14:44:15.574330",
     "exception": false,
     "start_time": "2021-01-07T14:44:15.510936",
     "status": "completed"
    },
    "tags": []
   },
   "source": [
    "# Data Visualization before train the Model"
   ]
  },
  {
   "cell_type": "code",
   "execution_count": 22,
   "metadata": {
    "execution": {
     "iopub.execute_input": "2021-01-07T14:44:15.699083Z",
     "iopub.status.busy": "2021-01-07T14:44:15.698280Z",
     "iopub.status.idle": "2021-01-07T14:44:16.038374Z",
     "shell.execute_reply": "2021-01-07T14:44:16.036849Z"
    },
    "papermill": {
     "duration": 0.398863,
     "end_time": "2021-01-07T14:44:16.038518",
     "exception": false,
     "start_time": "2021-01-07T14:44:15.639655",
     "status": "completed"
    },
    "tags": []
   },
   "outputs": [
    {
     "data": {
      "image/png": "[encoded data removed]",
      "text/plain": [
       "<Figure size 432x288 with 1 Axes>"
      ]
     },
     "metadata": {
      "needs_background": "light"
     },
     "output_type": "display_data"
    }
   ],
   "source": [
    "import matplotlib.pyplot as plt\n",
    "plt.scatter(X,Y)\n",
    "plt.xlabel('YearExperience')\n",
    "plt.ylabel('Salary')\n",
    "plt.grid()\n",
    "plt.show()"
   ]
  },
  {
   "cell_type": "markdown",
   "metadata": {
    "papermill": {
     "duration": 0.053488,
     "end_time": "2021-01-07T14:44:16.143914",
     "exception": false,
     "start_time": "2021-01-07T14:44:16.090426",
     "status": "completed"
    },
    "tags": []
   },
   "source": [
    "# Split DataSet to Train and Test"
   ]
  },
  {
   "cell_type": "code",
   "execution_count": 23,
   "metadata": {
    "execution": {
     "iopub.execute_input": "2021-01-07T14:44:16.251464Z",
     "iopub.status.busy": "2021-01-07T14:44:16.250764Z",
     "iopub.status.idle": "2021-01-07T14:44:17.828378Z",
     "shell.execute_reply": "2021-01-07T14:44:17.827667Z"
    },
    "papermill": {
     "duration": 1.635418,
     "end_time": "2021-01-07T14:44:17.828504",
     "exception": false,
     "start_time": "2021-01-07T14:44:16.193086",
     "status": "completed"
    },
    "tags": []
   },
   "outputs": [],
   "source": [
    "from sklearn.model_selection import train_test_split"
   ]
  },
  {
   "cell_type": "code",
   "execution_count": 24,
   "metadata": {
    "execution": {
     "iopub.execute_input": "2021-01-07T14:44:17.943111Z",
     "iopub.status.busy": "2021-01-07T14:44:17.941801Z",
     "iopub.status.idle": "2021-01-07T14:44:17.945324Z",
     "shell.execute_reply": "2021-01-07T14:44:17.944800Z"
    },
    "papermill": {
     "duration": 0.063437,
     "end_time": "2021-01-07T14:44:17.945455",
     "exception": false,
     "start_time": "2021-01-07T14:44:17.882018",
     "status": "completed"
    },
    "tags": []
   },
   "outputs": [],
   "source": [
    "#test_size= 0.3\n",
    "#train data is 70%\n",
    "#test data is 30% from all Data\n",
    "x_train,x_test,y_train,y_test=train_test_split(X,Y,test_size=0.3,random_state=0)"
   ]
  },
  {
   "cell_type": "code",
   "execution_count": 25,
   "metadata": {
    "execution": {
     "iopub.execute_input": "2021-01-07T14:44:18.067120Z",
     "iopub.status.busy": "2021-01-07T14:44:18.065477Z",
     "iopub.status.idle": "2021-01-07T14:44:18.074682Z",
     "shell.execute_reply": "2021-01-07T14:44:18.076067Z"
    },
    "papermill": {
     "duration": 0.082467,
     "end_time": "2021-01-07T14:44:18.076333",
     "exception": false,
     "start_time": "2021-01-07T14:44:17.993866",
     "status": "completed"
    },
    "tags": []
   },
   "outputs": [
    {
     "data": {
      "text/plain": [
       "((21, 1), (21,))"
      ]
     },
     "execution_count": 25,
     "metadata": {},
     "output_type": "execute_result"
    }
   ],
   "source": [
    "x_train.shape , y_train.shape"
   ]
  },
  {
   "cell_type": "code",
   "execution_count": 26,
   "metadata": {
    "execution": {
     "iopub.execute_input": "2021-01-07T14:44:18.223070Z",
     "iopub.status.busy": "2021-01-07T14:44:18.222270Z",
     "iopub.status.idle": "2021-01-07T14:44:18.229043Z",
     "shell.execute_reply": "2021-01-07T14:44:18.230191Z"
    },
    "papermill": {
     "duration": 0.090707,
     "end_time": "2021-01-07T14:44:18.230466",
     "exception": false,
     "start_time": "2021-01-07T14:44:18.139759",
     "status": "completed"
    },
    "tags": []
   },
   "outputs": [
    {
     "data": {
      "text/plain": [
       "((9, 1), (9,))"
      ]
     },
     "execution_count": 26,
     "metadata": {},
     "output_type": "execute_result"
    }
   ],
   "source": [
    "x_test.shape , y_test.shape"
   ]
  },
  {
   "cell_type": "markdown",
   "metadata": {
    "papermill": {
     "duration": 0.052451,
     "end_time": "2021-01-07T14:44:18.352619",
     "exception": false,
     "start_time": "2021-01-07T14:44:18.300168",
     "status": "completed"
    },
    "tags": []
   },
   "source": [
    "# Apply Linear Regration on Train DataSet"
   ]
  },
  {
   "cell_type": "code",
   "execution_count": 27,
   "metadata": {
    "execution": {
     "iopub.execute_input": "2021-01-07T14:44:18.455840Z",
     "iopub.status.busy": "2021-01-07T14:44:18.455048Z",
     "iopub.status.idle": "2021-01-07T14:44:18.604395Z",
     "shell.execute_reply": "2021-01-07T14:44:18.604990Z"
    },
    "papermill": {
     "duration": 0.203187,
     "end_time": "2021-01-07T14:44:18.605189",
     "exception": false,
     "start_time": "2021-01-07T14:44:18.402002",
     "status": "completed"
    },
    "tags": []
   },
   "outputs": [],
   "source": [
    "from sklearn.linear_model import LinearRegression"
   ]
  },
  {
   "cell_type": "code",
   "execution_count": 28,
   "metadata": {
    "execution": {
     "iopub.execute_input": "2021-01-07T14:44:18.716628Z",
     "iopub.status.busy": "2021-01-07T14:44:18.714323Z",
     "iopub.status.idle": "2021-01-07T14:44:18.719339Z",
     "shell.execute_reply": "2021-01-07T14:44:18.718741Z"
    },
    "papermill": {
     "duration": 0.062151,
     "end_time": "2021-01-07T14:44:18.719458",
     "exception": false,
     "start_time": "2021-01-07T14:44:18.657307",
     "status": "completed"
    },
    "tags": []
   },
   "outputs": [],
   "source": [
    "reg= LinearRegression()"
   ]
  },
  {
   "cell_type": "code",
   "execution_count": 29,
   "metadata": {
    "execution": {
     "iopub.execute_input": "2021-01-07T14:44:18.889186Z",
     "iopub.status.busy": "2021-01-07T14:44:18.856602Z",
     "iopub.status.idle": "2021-01-07T14:44:18.898374Z",
     "shell.execute_reply": "2021-01-07T14:44:18.897668Z"
    },
    "papermill": {
     "duration": 0.121997,
     "end_time": "2021-01-07T14:44:18.898838",
     "exception": false,
     "start_time": "2021-01-07T14:44:18.776841",
     "status": "completed"
    },
    "tags": []
   },
   "outputs": [
    {
     "data": {
      "text/plain": [
       "LinearRegression()"
      ]
     },
     "execution_count": 29,
     "metadata": {},
     "output_type": "execute_result"
    }
   ],
   "source": [
    "reg.fit(x_train , y_train)"
   ]
  },
  {
   "cell_type": "markdown",
   "metadata": {
    "papermill": {
     "duration": 0.051095,
     "end_time": "2021-01-07T14:44:19.001972",
     "exception": false,
     "start_time": "2021-01-07T14:44:18.950877",
     "status": "completed"
    },
    "tags": []
   },
   "source": [
    "# Get the Parameters"
   ]
  },
  {
   "cell_type": "code",
   "execution_count": 30,
   "metadata": {
    "execution": {
     "iopub.execute_input": "2021-01-07T14:44:19.110554Z",
     "iopub.status.busy": "2021-01-07T14:44:19.109824Z",
     "iopub.status.idle": "2021-01-07T14:44:19.116869Z",
     "shell.execute_reply": "2021-01-07T14:44:19.116291Z"
    },
    "papermill": {
     "duration": 0.062577,
     "end_time": "2021-01-07T14:44:19.116999",
     "exception": false,
     "start_time": "2021-01-07T14:44:19.054422",
     "status": "completed"
    },
    "tags": []
   },
   "outputs": [
    {
     "name": "stdout",
     "output_type": "stream",
     "text": [
      "Intercept (b) is :  26777.391341197632\n",
      "coefficien (m) is :  [9360.26128619]\n"
     ]
    }
   ],
   "source": [
    "#y = m x + b\n",
    "# b is intercept parameter\n",
    "# m is coefficient (slope)\n",
    "inter = reg.intercept_\n",
    "coe = reg.coef_\n",
    "print('Intercept (b) is : ' ,inter )\n",
    "print('coefficien (m) is : ' , coe)"
   ]
  },
  {
   "cell_type": "markdown",
   "metadata": {
    "papermill": {
     "duration": 0.053007,
     "end_time": "2021-01-07T14:44:19.225228",
     "exception": false,
     "start_time": "2021-01-07T14:44:19.172221",
     "status": "completed"
    },
    "tags": []
   },
   "source": [
    "# Apply the Model on test dataset to get the predict the values"
   ]
  },
  {
   "cell_type": "code",
   "execution_count": 31,
   "metadata": {
    "execution": {
     "iopub.execute_input": "2021-01-07T14:44:19.343102Z",
     "iopub.status.busy": "2021-01-07T14:44:19.342376Z",
     "iopub.status.idle": "2021-01-07T14:44:19.344881Z",
     "shell.execute_reply": "2021-01-07T14:44:19.344207Z"
    },
    "papermill": {
     "duration": 0.063153,
     "end_time": "2021-01-07T14:44:19.345005",
     "exception": false,
     "start_time": "2021-01-07T14:44:19.281852",
     "status": "completed"
    },
    "tags": []
   },
   "outputs": [],
   "source": [
    "y_pred = reg.predict(x_test)"
   ]
  },
  {
   "cell_type": "code",
   "execution_count": 32,
   "metadata": {
    "execution": {
     "iopub.execute_input": "2021-01-07T14:44:19.454434Z",
     "iopub.status.busy": "2021-01-07T14:44:19.453748Z",
     "iopub.status.idle": "2021-01-07T14:44:19.458351Z",
     "shell.execute_reply": "2021-01-07T14:44:19.457671Z"
    },
    "papermill": {
     "duration": 0.058686,
     "end_time": "2021-01-07T14:44:19.458695",
     "exception": false,
     "start_time": "2021-01-07T14:44:19.400009",
     "status": "completed"
    },
    "tags": []
   },
   "outputs": [
    {
     "data": {
      "text/plain": [
       "(9,)"
      ]
     },
     "execution_count": 32,
     "metadata": {},
     "output_type": "execute_result"
    }
   ],
   "source": [
    "y_pred.shape"
   ]
  },
  {
   "cell_type": "markdown",
   "metadata": {
    "papermill": {
     "duration": 0.053486,
     "end_time": "2021-01-07T14:44:19.567463",
     "exception": false,
     "start_time": "2021-01-07T14:44:19.513977",
     "status": "completed"
    },
    "tags": []
   },
   "source": [
    "# To Compare The Actual values and the Predict values"
   ]
  },
  {
   "cell_type": "code",
   "execution_count": 33,
   "metadata": {
    "execution": {
     "iopub.execute_input": "2021-01-07T14:44:19.696294Z",
     "iopub.status.busy": "2021-01-07T14:44:19.695292Z",
     "iopub.status.idle": "2021-01-07T14:44:19.701031Z",
     "shell.execute_reply": "2021-01-07T14:44:19.700432Z"
    },
    "papermill": {
     "duration": 0.073953,
     "end_time": "2021-01-07T14:44:19.701167",
     "exception": false,
     "start_time": "2021-01-07T14:44:19.627214",
     "status": "completed"
    },
    "tags": []
   },
   "outputs": [
    {
     "data": {
      "text/html": [
       "<div>\n",
       "<style scoped>\n",
       "    .dataframe tbody tr th:only-of-type {\n",
       "        vertical-align: middle;\n",
       "    }\n",
       "\n",
       "    .dataframe tbody tr th {\n",
       "        vertical-align: top;\n",
       "    }\n",
       "\n",
       "    .dataframe thead th {\n",
       "        text-align: right;\n",
       "    }\n",
       "</style>\n",
       "<table border=\"1\" class=\"dataframe\">\n",
       "  <thead>\n",
       "    <tr style=\"text-align: right;\">\n",
       "      <th></th>\n",
       "      <th>Actual</th>\n",
       "      <th>Predict</th>\n",
       "    </tr>\n",
       "  </thead>\n",
       "  <tbody>\n",
       "    <tr>\n",
       "      <th>2</th>\n",
       "      <td>37731.0</td>\n",
       "      <td>40817.783270</td>\n",
       "    </tr>\n",
       "    <tr>\n",
       "      <th>28</th>\n",
       "      <td>122391.0</td>\n",
       "      <td>123188.082589</td>\n",
       "    </tr>\n",
       "    <tr>\n",
       "      <th>13</th>\n",
       "      <td>57081.0</td>\n",
       "      <td>65154.462615</td>\n",
       "    </tr>\n",
       "    <tr>\n",
       "      <th>10</th>\n",
       "      <td>63218.0</td>\n",
       "      <td>63282.410357</td>\n",
       "    </tr>\n",
       "    <tr>\n",
       "      <th>26</th>\n",
       "      <td>116969.0</td>\n",
       "      <td>115699.873560</td>\n",
       "    </tr>\n",
       "    <tr>\n",
       "      <th>24</th>\n",
       "      <td>109431.0</td>\n",
       "      <td>108211.664531</td>\n",
       "    </tr>\n",
       "    <tr>\n",
       "      <th>27</th>\n",
       "      <td>112635.0</td>\n",
       "      <td>116635.899689</td>\n",
       "    </tr>\n",
       "    <tr>\n",
       "      <th>11</th>\n",
       "      <td>55794.0</td>\n",
       "      <td>64218.436486</td>\n",
       "    </tr>\n",
       "    <tr>\n",
       "      <th>17</th>\n",
       "      <td>83088.0</td>\n",
       "      <td>76386.776158</td>\n",
       "    </tr>\n",
       "  </tbody>\n",
       "</table>\n",
       "</div>"
      ],
      "text/plain": [
       "      Actual        Predict\n",
       "2    37731.0   40817.783270\n",
       "28  122391.0  123188.082589\n",
       "13   57081.0   65154.462615\n",
       "10   63218.0   63282.410357\n",
       "26  116969.0  115699.873560\n",
       "24  109431.0  108211.664531\n",
       "27  112635.0  116635.899689\n",
       "11   55794.0   64218.436486\n",
       "17   83088.0   76386.776158"
      ]
     },
     "execution_count": 33,
     "metadata": {},
     "output_type": "execute_result"
    }
   ],
   "source": [
    "df1 = pd.DataFrame({'Actual':y_test , 'Predict':y_pred})\n",
    "df1"
   ]
  },
  {
   "cell_type": "code",
   "execution_count": 34,
   "metadata": {
    "execution": {
     "iopub.execute_input": "2021-01-07T14:44:19.822638Z",
     "iopub.status.busy": "2021-01-07T14:44:19.821337Z",
     "iopub.status.idle": "2021-01-07T14:44:19.865342Z",
     "shell.execute_reply": "2021-01-07T14:44:19.864204Z"
    },
    "papermill": {
     "duration": 0.106791,
     "end_time": "2021-01-07T14:44:19.865511",
     "exception": false,
     "start_time": "2021-01-07T14:44:19.758720",
     "status": "completed"
    },
    "tags": []
   },
   "outputs": [],
   "source": [
    "df2=pd.DataFrame({'Actual':y_test , 'Predict': y_pred , 'Variance' : y_test-y_pred})\n"
   ]
  },
  {
   "cell_type": "code",
   "execution_count": 35,
   "metadata": {
    "execution": {
     "iopub.execute_input": "2021-01-07T14:44:20.007652Z",
     "iopub.status.busy": "2021-01-07T14:44:20.006791Z",
     "iopub.status.idle": "2021-01-07T14:44:20.012623Z",
     "shell.execute_reply": "2021-01-07T14:44:20.012040Z"
    },
    "papermill": {
     "duration": 0.084689,
     "end_time": "2021-01-07T14:44:20.012751",
     "exception": false,
     "start_time": "2021-01-07T14:44:19.928062",
     "status": "completed"
    },
    "tags": []
   },
   "outputs": [
    {
     "data": {
      "text/html": [
       "<div>\n",
       "<style scoped>\n",
       "    .dataframe tbody tr th:only-of-type {\n",
       "        vertical-align: middle;\n",
       "    }\n",
       "\n",
       "    .dataframe tbody tr th {\n",
       "        vertical-align: top;\n",
       "    }\n",
       "\n",
       "    .dataframe thead th {\n",
       "        text-align: right;\n",
       "    }\n",
       "</style>\n",
       "<table border=\"1\" class=\"dataframe\">\n",
       "  <thead>\n",
       "    <tr style=\"text-align: right;\">\n",
       "      <th></th>\n",
       "      <th>Actual</th>\n",
       "      <th>Predict</th>\n",
       "      <th>Variance</th>\n",
       "    </tr>\n",
       "  </thead>\n",
       "  <tbody>\n",
       "    <tr>\n",
       "      <th>2</th>\n",
       "      <td>37731.0</td>\n",
       "      <td>40817.783270</td>\n",
       "      <td>-3086.783270</td>\n",
       "    </tr>\n",
       "    <tr>\n",
       "      <th>28</th>\n",
       "      <td>122391.0</td>\n",
       "      <td>123188.082589</td>\n",
       "      <td>-797.082589</td>\n",
       "    </tr>\n",
       "    <tr>\n",
       "      <th>13</th>\n",
       "      <td>57081.0</td>\n",
       "      <td>65154.462615</td>\n",
       "      <td>-8073.462615</td>\n",
       "    </tr>\n",
       "    <tr>\n",
       "      <th>10</th>\n",
       "      <td>63218.0</td>\n",
       "      <td>63282.410357</td>\n",
       "      <td>-64.410357</td>\n",
       "    </tr>\n",
       "    <tr>\n",
       "      <th>26</th>\n",
       "      <td>116969.0</td>\n",
       "      <td>115699.873560</td>\n",
       "      <td>1269.126440</td>\n",
       "    </tr>\n",
       "    <tr>\n",
       "      <th>24</th>\n",
       "      <td>109431.0</td>\n",
       "      <td>108211.664531</td>\n",
       "      <td>1219.335469</td>\n",
       "    </tr>\n",
       "    <tr>\n",
       "      <th>27</th>\n",
       "      <td>112635.0</td>\n",
       "      <td>116635.899689</td>\n",
       "      <td>-4000.899689</td>\n",
       "    </tr>\n",
       "    <tr>\n",
       "      <th>11</th>\n",
       "      <td>55794.0</td>\n",
       "      <td>64218.436486</td>\n",
       "      <td>-8424.436486</td>\n",
       "    </tr>\n",
       "    <tr>\n",
       "      <th>17</th>\n",
       "      <td>83088.0</td>\n",
       "      <td>76386.776158</td>\n",
       "      <td>6701.223842</td>\n",
       "    </tr>\n",
       "  </tbody>\n",
       "</table>\n",
       "</div>"
      ],
      "text/plain": [
       "      Actual        Predict     Variance\n",
       "2    37731.0   40817.783270 -3086.783270\n",
       "28  122391.0  123188.082589  -797.082589\n",
       "13   57081.0   65154.462615 -8073.462615\n",
       "10   63218.0   63282.410357   -64.410357\n",
       "26  116969.0  115699.873560  1269.126440\n",
       "24  109431.0  108211.664531  1219.335469\n",
       "27  112635.0  116635.899689 -4000.899689\n",
       "11   55794.0   64218.436486 -8424.436486\n",
       "17   83088.0   76386.776158  6701.223842"
      ]
     },
     "execution_count": 35,
     "metadata": {},
     "output_type": "execute_result"
    }
   ],
   "source": [
    "df2"
   ]
  },
  {
   "cell_type": "code",
   "execution_count": 36,
   "metadata": {
    "execution": {
     "iopub.execute_input": "2021-01-07T14:44:20.163502Z",
     "iopub.status.busy": "2021-01-07T14:44:20.162763Z",
     "iopub.status.idle": "2021-01-07T14:44:20.170319Z",
     "shell.execute_reply": "2021-01-07T14:44:20.169587Z"
    },
    "papermill": {
     "duration": 0.081361,
     "end_time": "2021-01-07T14:44:20.170444",
     "exception": false,
     "start_time": "2021-01-07T14:44:20.089083",
     "status": "completed"
    },
    "tags": []
   },
   "outputs": [
    {
     "data": {
      "text/html": [
       "<div>\n",
       "<style scoped>\n",
       "    .dataframe tbody tr th:only-of-type {\n",
       "        vertical-align: middle;\n",
       "    }\n",
       "\n",
       "    .dataframe tbody tr th {\n",
       "        vertical-align: top;\n",
       "    }\n",
       "\n",
       "    .dataframe thead th {\n",
       "        text-align: right;\n",
       "    }\n",
       "</style>\n",
       "<table border=\"1\" class=\"dataframe\">\n",
       "  <thead>\n",
       "    <tr style=\"text-align: right;\">\n",
       "      <th></th>\n",
       "      <th>YearsExperience</th>\n",
       "      <th>Salary</th>\n",
       "    </tr>\n",
       "  </thead>\n",
       "  <tbody>\n",
       "    <tr>\n",
       "      <th>0</th>\n",
       "      <td>1.1</td>\n",
       "      <td>39343.0</td>\n",
       "    </tr>\n",
       "    <tr>\n",
       "      <th>1</th>\n",
       "      <td>1.3</td>\n",
       "      <td>46205.0</td>\n",
       "    </tr>\n",
       "    <tr>\n",
       "      <th>2</th>\n",
       "      <td>1.5</td>\n",
       "      <td>37731.0</td>\n",
       "    </tr>\n",
       "    <tr>\n",
       "      <th>3</th>\n",
       "      <td>2.0</td>\n",
       "      <td>43525.0</td>\n",
       "    </tr>\n",
       "    <tr>\n",
       "      <th>4</th>\n",
       "      <td>2.2</td>\n",
       "      <td>39891.0</td>\n",
       "    </tr>\n",
       "    <tr>\n",
       "      <th>5</th>\n",
       "      <td>2.9</td>\n",
       "      <td>56642.0</td>\n",
       "    </tr>\n",
       "    <tr>\n",
       "      <th>6</th>\n",
       "      <td>3.0</td>\n",
       "      <td>60150.0</td>\n",
       "    </tr>\n",
       "    <tr>\n",
       "      <th>7</th>\n",
       "      <td>3.2</td>\n",
       "      <td>54445.0</td>\n",
       "    </tr>\n",
       "    <tr>\n",
       "      <th>8</th>\n",
       "      <td>3.2</td>\n",
       "      <td>64445.0</td>\n",
       "    </tr>\n",
       "    <tr>\n",
       "      <th>9</th>\n",
       "      <td>3.7</td>\n",
       "      <td>57189.0</td>\n",
       "    </tr>\n",
       "    <tr>\n",
       "      <th>10</th>\n",
       "      <td>3.9</td>\n",
       "      <td>63218.0</td>\n",
       "    </tr>\n",
       "    <tr>\n",
       "      <th>11</th>\n",
       "      <td>4.0</td>\n",
       "      <td>55794.0</td>\n",
       "    </tr>\n",
       "    <tr>\n",
       "      <th>12</th>\n",
       "      <td>4.0</td>\n",
       "      <td>56957.0</td>\n",
       "    </tr>\n",
       "    <tr>\n",
       "      <th>13</th>\n",
       "      <td>4.1</td>\n",
       "      <td>57081.0</td>\n",
       "    </tr>\n",
       "    <tr>\n",
       "      <th>14</th>\n",
       "      <td>4.5</td>\n",
       "      <td>61111.0</td>\n",
       "    </tr>\n",
       "    <tr>\n",
       "      <th>15</th>\n",
       "      <td>4.9</td>\n",
       "      <td>67938.0</td>\n",
       "    </tr>\n",
       "    <tr>\n",
       "      <th>16</th>\n",
       "      <td>5.1</td>\n",
       "      <td>66029.0</td>\n",
       "    </tr>\n",
       "    <tr>\n",
       "      <th>17</th>\n",
       "      <td>5.3</td>\n",
       "      <td>83088.0</td>\n",
       "    </tr>\n",
       "    <tr>\n",
       "      <th>18</th>\n",
       "      <td>5.9</td>\n",
       "      <td>81363.0</td>\n",
       "    </tr>\n",
       "    <tr>\n",
       "      <th>19</th>\n",
       "      <td>6.0</td>\n",
       "      <td>93940.0</td>\n",
       "    </tr>\n",
       "    <tr>\n",
       "      <th>20</th>\n",
       "      <td>6.8</td>\n",
       "      <td>91738.0</td>\n",
       "    </tr>\n",
       "    <tr>\n",
       "      <th>21</th>\n",
       "      <td>7.1</td>\n",
       "      <td>98273.0</td>\n",
       "    </tr>\n",
       "    <tr>\n",
       "      <th>22</th>\n",
       "      <td>7.9</td>\n",
       "      <td>101302.0</td>\n",
       "    </tr>\n",
       "    <tr>\n",
       "      <th>23</th>\n",
       "      <td>8.2</td>\n",
       "      <td>113812.0</td>\n",
       "    </tr>\n",
       "    <tr>\n",
       "      <th>24</th>\n",
       "      <td>8.7</td>\n",
       "      <td>109431.0</td>\n",
       "    </tr>\n",
       "    <tr>\n",
       "      <th>25</th>\n",
       "      <td>9.0</td>\n",
       "      <td>105582.0</td>\n",
       "    </tr>\n",
       "    <tr>\n",
       "      <th>26</th>\n",
       "      <td>9.5</td>\n",
       "      <td>116969.0</td>\n",
       "    </tr>\n",
       "    <tr>\n",
       "      <th>27</th>\n",
       "      <td>9.6</td>\n",
       "      <td>112635.0</td>\n",
       "    </tr>\n",
       "    <tr>\n",
       "      <th>28</th>\n",
       "      <td>10.3</td>\n",
       "      <td>122391.0</td>\n",
       "    </tr>\n",
       "    <tr>\n",
       "      <th>29</th>\n",
       "      <td>10.5</td>\n",
       "      <td>121872.0</td>\n",
       "    </tr>\n",
       "  </tbody>\n",
       "</table>\n",
       "</div>"
      ],
      "text/plain": [
       "    YearsExperience    Salary\n",
       "0               1.1   39343.0\n",
       "1               1.3   46205.0\n",
       "2               1.5   37731.0\n",
       "3               2.0   43525.0\n",
       "4               2.2   39891.0\n",
       "5               2.9   56642.0\n",
       "6               3.0   60150.0\n",
       "7               3.2   54445.0\n",
       "8               3.2   64445.0\n",
       "9               3.7   57189.0\n",
       "10              3.9   63218.0\n",
       "11              4.0   55794.0\n",
       "12              4.0   56957.0\n",
       "13              4.1   57081.0\n",
       "14              4.5   61111.0\n",
       "15              4.9   67938.0\n",
       "16              5.1   66029.0\n",
       "17              5.3   83088.0\n",
       "18              5.9   81363.0\n",
       "19              6.0   93940.0\n",
       "20              6.8   91738.0\n",
       "21              7.1   98273.0\n",
       "22              7.9  101302.0\n",
       "23              8.2  113812.0\n",
       "24              8.7  109431.0\n",
       "25              9.0  105582.0\n",
       "26              9.5  116969.0\n",
       "27              9.6  112635.0\n",
       "28             10.3  122391.0\n",
       "29             10.5  121872.0"
      ]
     },
     "execution_count": 36,
     "metadata": {},
     "output_type": "execute_result"
    }
   ],
   "source": [
    "df"
   ]
  },
  {
   "cell_type": "markdown",
   "metadata": {
    "papermill": {
     "duration": 0.059889,
     "end_time": "2021-01-07T14:44:20.285623",
     "exception": false,
     "start_time": "2021-01-07T14:44:20.225734",
     "status": "completed"
    },
    "tags": []
   },
   "source": [
    "# Prediction"
   ]
  },
  {
   "cell_type": "code",
   "execution_count": 37,
   "metadata": {
    "execution": {
     "iopub.execute_input": "2021-01-07T14:44:20.410583Z",
     "iopub.status.busy": "2021-01-07T14:44:20.409277Z",
     "iopub.status.idle": "2021-01-07T14:44:20.414908Z",
     "shell.execute_reply": "2021-01-07T14:44:20.414153Z"
    },
    "papermill": {
     "duration": 0.069306,
     "end_time": "2021-01-07T14:44:20.415043",
     "exception": false,
     "start_time": "2021-01-07T14:44:20.345737",
     "status": "completed"
    },
    "tags": []
   },
   "outputs": [],
   "source": [
    "#predicting the result os 1.5 Years Experence\n",
    "pred = np.array([1.5]).reshape(-1,1)"
   ]
  },
  {
   "cell_type": "code",
   "execution_count": 38,
   "metadata": {
    "execution": {
     "iopub.execute_input": "2021-01-07T14:44:20.530911Z",
     "iopub.status.busy": "2021-01-07T14:44:20.529985Z",
     "iopub.status.idle": "2021-01-07T14:44:20.538881Z",
     "shell.execute_reply": "2021-01-07T14:44:20.537723Z"
    },
    "papermill": {
     "duration": 0.068739,
     "end_time": "2021-01-07T14:44:20.539067",
     "exception": false,
     "start_time": "2021-01-07T14:44:20.470328",
     "status": "completed"
    },
    "tags": []
   },
   "outputs": [
    {
     "data": {
      "text/plain": [
       "array([40817.78327049])"
      ]
     },
     "execution_count": 38,
     "metadata": {},
     "output_type": "execute_result"
    }
   ],
   "source": [
    "reg.predict(pred)"
   ]
  },
  {
   "cell_type": "code",
   "execution_count": 39,
   "metadata": {
    "execution": {
     "iopub.execute_input": "2021-01-07T14:44:20.670302Z",
     "iopub.status.busy": "2021-01-07T14:44:20.669576Z",
     "iopub.status.idle": "2021-01-07T14:44:20.674994Z",
     "shell.execute_reply": "2021-01-07T14:44:20.675567Z"
    },
    "papermill": {
     "duration": 0.063751,
     "end_time": "2021-01-07T14:44:20.675749",
     "exception": false,
     "start_time": "2021-01-07T14:44:20.611998",
     "status": "completed"
    },
    "tags": []
   },
   "outputs": [
    {
     "name": "stdout",
     "output_type": "stream",
     "text": [
      "40817.78327048263\n"
     ]
    }
   ],
   "source": [
    "#y=m*x+b\n",
    "y=9360.26128619*1.5+26777.391341197632\n",
    "print(y)"
   ]
  },
  {
   "cell_type": "markdown",
   "metadata": {
    "papermill": {
     "duration": 0.053146,
     "end_time": "2021-01-07T14:44:20.782410",
     "exception": false,
     "start_time": "2021-01-07T14:44:20.729264",
     "status": "completed"
    },
    "tags": []
   },
   "source": [
    "# Visualization"
   ]
  },
  {
   "cell_type": "code",
   "execution_count": 40,
   "metadata": {
    "execution": {
     "iopub.execute_input": "2021-01-07T14:44:20.891651Z",
     "iopub.status.busy": "2021-01-07T14:44:20.890571Z",
     "iopub.status.idle": "2021-01-07T14:44:21.080170Z",
     "shell.execute_reply": "2021-01-07T14:44:21.079466Z"
    },
    "papermill": {
     "duration": 0.243911,
     "end_time": "2021-01-07T14:44:21.080291",
     "exception": false,
     "start_time": "2021-01-07T14:44:20.836380",
     "status": "completed"
    },
    "tags": []
   },
   "outputs": [
    {
     "data": {
      "image/png": "[encoded data removed]",
      "text/plain": [
       "<Figure size 432x288 with 1 Axes>"
      ]
     },
     "metadata": {
      "needs_background": "light"
     },
     "output_type": "display_data"
    }
   ],
   "source": [
    "#Visualizing our training model\n",
    "plt.scatter(x_train,y_train,color='red')\n",
    "plt.plot(x_train , reg.predict(x_train) , color='blue')\n",
    "plt.title('Salary VS Experience (Training Set)')\n",
    "plt.xlabel('Year of Experiance')\n",
    "plt.ylabel('Salary')\n",
    "plt.grid()\n",
    "plt.show()"
   ]
  },
  {
   "cell_type": "code",
   "execution_count": 41,
   "metadata": {
    "execution": {
     "iopub.execute_input": "2021-01-07T14:44:21.211467Z",
     "iopub.status.busy": "2021-01-07T14:44:21.209938Z",
     "iopub.status.idle": "2021-01-07T14:44:21.388269Z",
     "shell.execute_reply": "2021-01-07T14:44:21.387659Z"
    },
    "papermill": {
     "duration": 0.253521,
     "end_time": "2021-01-07T14:44:21.388473",
     "exception": false,
     "start_time": "2021-01-07T14:44:21.134952",
     "status": "completed"
    },
    "tags": []
   },
   "outputs": [
    {
     "data": {
      "image/png": "[encoded data removed]",
      "text/plain": [
       "<Figure size 432x288 with 1 Axes>"
      ]
     },
     "metadata": {
      "needs_background": "light"
     },
     "output_type": "display_data"
    }
   ],
   "source": [
    "#Visualizing our testing model\n",
    "plt.scatter(x_test,y_test,color='red')\n",
    "plt.plot(x_test , reg.predict(x_test) , color='blue')\n",
    "plt.title('Salary VS Experience (Testing Set)')\n",
    "plt.xlabel('Year of Experiance')\n",
    "plt.ylabel('Salary')\n",
    "plt.grid()\n",
    "plt.show()"
   ]
  },
  {
   "cell_type": "markdown",
   "metadata": {
    "papermill": {
     "duration": 0.060602,
     "end_time": "2021-01-07T14:44:21.508244",
     "exception": false,
     "start_time": "2021-01-07T14:44:21.447642",
     "status": "completed"
    },
    "tags": []
   },
   "source": [
    "# Evaluation Matrics of Regrission Algorithms"
   ]
  },
  {
   "cell_type": "code",
   "execution_count": 42,
   "metadata": {
    "execution": {
     "iopub.execute_input": "2021-01-07T14:44:21.628729Z",
     "iopub.status.busy": "2021-01-07T14:44:21.627937Z",
     "iopub.status.idle": "2021-01-07T14:44:21.633732Z",
     "shell.execute_reply": "2021-01-07T14:44:21.632568Z"
    },
    "papermill": {
     "duration": 0.069182,
     "end_time": "2021-01-07T14:44:21.633949",
     "exception": false,
     "start_time": "2021-01-07T14:44:21.564767",
     "status": "completed"
    },
    "tags": []
   },
   "outputs": [
    {
     "name": "stdout",
     "output_type": "stream",
     "text": [
      "Score is :  97.4099340721351\n"
     ]
    }
   ],
   "source": [
    "from sklearn.metrics import r2_score\n",
    "Score = r2_score(y_test ,y_pred)*100\n",
    "print('Score is : ' , Score)"
   ]
  },
  {
   "cell_type": "code",
   "execution_count": 43,
   "metadata": {
    "execution": {
     "iopub.execute_input": "2021-01-07T14:44:21.757066Z",
     "iopub.status.busy": "2021-01-07T14:44:21.756174Z",
     "iopub.status.idle": "2021-01-07T14:44:21.760861Z",
     "shell.execute_reply": "2021-01-07T14:44:21.760051Z"
    },
    "papermill": {
     "duration": 0.068921,
     "end_time": "2021-01-07T14:44:21.761000",
     "exception": false,
     "start_time": "2021-01-07T14:44:21.692079",
     "status": "completed"
    },
    "tags": []
   },
   "outputs": [
    {
     "name": "stdout",
     "output_type": "stream",
     "text": [
      "Mean Absolute Error :  3737.4178618788987\n",
      "Mean Squared Error :  23370078.800832972\n",
      "Root Mean Squared Error :  4834.260936361728\n"
     ]
    }
   ],
   "source": [
    "\n",
    "from sklearn.metrics import mean_absolute_error\n",
    "from sklearn.metrics import mean_squared_error\n",
    "\n",
    "print('Mean Absolute Error : ' ,mean_absolute_error(y_test,y_pred) )\n",
    "print('Mean Squared Error : ' ,mean_squared_error(y_test,y_pred))\n",
    "print('Root Mean Squared Error : ' ,np.sqrt(mean_squared_error(y_test,y_pred)))\n",
    "\n"
   ]
  },
  {
   "cell_type": "code",
   "execution_count": null,
   "metadata": {
    "papermill": {
     "duration": 0.057599,
     "end_time": "2021-01-07T14:44:21.876962",
     "exception": false,
     "start_time": "2021-01-07T14:44:21.819363",
     "status": "completed"
    },
    "tags": []
   },
   "outputs": [],
   "source": []
  }
 ],
 "metadata": {
  "kernelspec": {
   "display_name": "Python 3",
   "language": "python",
   "name": "python3"
  },
  "language_info": {
   "codemirror_mode": {
    "name": "ipython",
    "version": 3
   },
   "file_extension": ".py",
   "mimetype": "text/x-python",
   "name": "python",
   "nbconvert_exporter": "python",
   "pygments_lexer": "ipython3",
   "version": "3.7.6"
  },
  "papermill": {
   "duration": 14.610542,
   "end_time": "2021-01-07T14:44:22.045267",
   "environment_variables": {},
   "exception": null,
   "input_path": "__notebook__.ipynb",
   "output_path": "__notebook__.ipynb",
   "parameters": {},
   "start_time": "2021-01-07T14:44:07.434725",
   "version": "2.1.0"
  }
 },
 "nbformat": 4,
 "nbformat_minor": 4
}
