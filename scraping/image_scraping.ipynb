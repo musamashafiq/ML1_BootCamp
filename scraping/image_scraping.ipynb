{
 "cells": [
  {
   "cell_type": "code",
   "execution_count": 16,
   "id": "e13ae5ae-8acb-48bd-90ec-7e8d7a1bc16f",
   "metadata": {},
   "outputs": [
    {
     "name": "stdout",
     "output_type": "stream",
     "text": [
      "Found 63 unique relevant image URLs so far.\n",
      "Found 63 unique relevant image URLs so far.\n",
      "Found 63 unique relevant image URLs so far.\n",
      "Found 63 unique relevant image URLs so far.\n",
      "Found 93 unique relevant image URLs so far.\n",
      "Found 361 unique relevant image URLs so far.\n"
     ]
    }
   ],
   "source": [
    "from selenium import webdriver\n",
    "from selenium.webdriver.common.by import By\n",
    "from selenium.webdriver.chrome.service import Service\n",
    "from selenium.webdriver.common.keys import Keys\n",
    "from webdriver_manager.chrome import ChromeDriverManager\n",
    "import requests\n",
    "import time\n",
    "import os\n",
    "from PIL import Image\n",
    "from io import BytesIO\n",
    "\n",
    "# Set up the webdriver\n",
    "service = Service(ChromeDriverManager().install())\n",
    "driver = webdriver.Chrome(service=service)\n",
    "\n",
    "# Open the Freepik search page for apple images\n",
    "url = 'https://yandex.com/images/search?lr=10616&text=apple+fruit&itype=jpg'\n",
    "driver.get(url)\n",
    "\n",
    "# Give the page time to load\n",
    "time.sleep(10)\n",
    "\n",
    "# Function to check if the image is relevant and clean\n",
    "def is_valid_image(image_url):\n",
    "    try:\n",
    "        response = requests.get(image_url)\n",
    "        if response.status_code == 200:\n",
    "            img = Image.open(BytesIO(response.content))\n",
    "            # Check if the image is too small\n",
    "            if img.size[0] > 100 and img.size[1] > 100:\n",
    "                return True\n",
    "    except:\n",
    "        return False\n",
    "    return False\n",
    "\n",
    "# Scroll and load more images until we have enough\n",
    "image_urls = set()\n",
    "while len(image_urls) < 300:\n",
    "    # Scroll to the bottom of the page\n",
    "    driver.find_element(By.TAG_NAME, 'body').send_keys(Keys.END)\n",
    "    time.sleep(20)  # Give time to load more images\n",
    "    \n",
    "    # Find image elements and extract URLs\n",
    "    image_elements = driver.find_elements(By.CSS_SELECTOR, 'img')\n",
    "    new_image_urls = {img.get_attribute('src') for img in image_elements if img.get_attribute('src')}\n",
    "    \n",
    "    # Filter and add only valid image URLs\n",
    "    for url in new_image_urls:\n",
    "        if is_valid_image(url):\n",
    "            image_urls.add(url)\n",
    "    \n",
    "    print(f\"Found {len(image_urls)} unique relevant image URLs so far.\")\n",
    "\n",
    "# Create a directory to save images\n",
    "if not os.path.exists('apple_images'):\n",
    "    os.makedirs('apple_images')\n",
    "\n",
    "# Download and save images\n",
    "for i, url in enumerate(image_urls):\n",
    "    if i >= 300:\n",
    "        break\n",
    "    try:\n",
    "        response = requests.get(url)\n",
    "        if response.status_code == 200:\n",
    "            with open(f'apple_images/apple_image_{i+1}.png', 'wb') as file:\n",
    "                file.write(response.content)\n",
    "    except Exception as e:\n",
    "        print(f\"Could not download {url}. Error: {e}\")\n",
    "\n",
    "# Close the driver\n",
    "driver.quit()\n"
   ]
  },
  {
   "cell_type": "code",
   "execution_count": null,
   "id": "1e46ea81-776c-4d9d-850b-b744793f14a9",
   "metadata": {},
   "outputs": [],
   "source": []
  }
 ],
 "metadata": {
  "kernelspec": {
   "display_name": "traning_env",
   "language": "python",
   "name": "traning_env"
  },
  "language_info": {
   "codemirror_mode": {
    "name": "ipython",
    "version": 3
   },
   "file_extension": ".py",
   "mimetype": "text/x-python",
   "name": "python",
   "nbconvert_exporter": "python",
   "pygments_lexer": "ipython3",
   "version": "3.11.5"
  }
 },
 "nbformat": 4,
 "nbformat_minor": 5
}
